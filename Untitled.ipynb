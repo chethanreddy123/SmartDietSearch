{
 "cells": [
  {
   "cell_type": "code",
   "execution_count": 1,
   "id": "ee9a084e",
   "metadata": {},
   "outputs": [],
   "source": [
    "from math import e\n",
    "f = lambda x : 1/ (1 + e**(-x))"
   ]
  },
  {
   "cell_type": "code",
   "execution_count": 3,
   "id": "2a720519",
   "metadata": {},
   "outputs": [
    {
     "data": {
      "text/plain": [
       "[0.16097735539228575, 0.6080481595680783, 0.3831088207194665]"
      ]
     },
     "execution_count": 3,
     "metadata": {},
     "output_type": "execute_result"
    }
   ],
   "source": [
    "import random\n",
    "weights = []\n",
    "\n",
    "for i in range(3):\n",
    "    weights.append(random.random())\n",
    "    \n",
    "weights"
   ]
  },
  {
   "cell_type": "code",
   "execution_count": 4,
   "id": "a7616a57",
   "metadata": {},
   "outputs": [],
   "source": [
    "inputs = [1 , 2.3, 4.2]"
   ]
  },
  {
   "cell_type": "code",
   "execution_count": 5,
   "id": "8225273a",
   "metadata": {},
   "outputs": [
    {
     "name": "stdout",
     "output_type": "stream",
     "text": [
      "3.168545169420625\n"
     ]
    }
   ],
   "source": [
    "x = weights[0]*inputs[0] + weights[1]*inputs[1] + weights[2]*inputs[2]\n",
    "print(x)"
   ]
  },
  {
   "cell_type": "code",
   "execution_count": 6,
   "id": "15ca9636",
   "metadata": {},
   "outputs": [
    {
     "data": {
      "text/plain": [
       "0.9596332660953216"
      ]
     },
     "execution_count": 6,
     "metadata": {},
     "output_type": "execute_result"
    }
   ],
   "source": [
    "f(x)"
   ]
  },
  {
   "cell_type": "code",
   "execution_count": 8,
   "id": "d5f0a27a",
   "metadata": {},
   "outputs": [
    {
     "name": "stdout",
     "output_type": "stream",
     "text": [
      "Output value is: 0.9596332660953216\n"
     ]
    }
   ],
   "source": [
    "print(\"Output value is:\",f(x))"
   ]
  },
  {
   "cell_type": "code",
   "execution_count": 9,
   "id": "69d73fb9",
   "metadata": {},
   "outputs": [
    {
     "data": {
      "text/plain": [
       "[0.15996271043984633, 0.9520801921897597]"
      ]
     },
     "execution_count": 9,
     "metadata": {},
     "output_type": "execute_result"
    }
   ],
   "source": [
    "import random\n",
    "weights = []\n",
    "\n",
    "for i in range(2):\n",
    "    weights.append(random.random())\n",
    "    \n",
    "weights"
   ]
  },
  {
   "cell_type": "code",
   "execution_count": 10,
   "id": "d191556e",
   "metadata": {},
   "outputs": [
    {
     "name": "stdout",
     "output_type": "stream",
     "text": [
      "2.349747152476293\n"
     ]
    }
   ],
   "source": [
    "inputs = [1 , 2.3]\n",
    "\n",
    "x = weights[0]*inputs[0] + weights[1]*inputs[1]\n",
    "print(x)"
   ]
  },
  {
   "cell_type": "code",
   "execution_count": 11,
   "id": "dfb223dd",
   "metadata": {},
   "outputs": [
    {
     "name": "stdout",
     "output_type": "stream",
     "text": [
      "Output value is: 0.9129141277939604\n"
     ]
    }
   ],
   "source": [
    "print(\"Output value is:\",f(x))"
   ]
  },
  {
   "cell_type": "code",
   "execution_count": null,
   "id": "632103da",
   "metadata": {},
   "outputs": [],
   "source": []
  }
 ],
 "metadata": {
  "kernelspec": {
   "display_name": "Python 3 (ipykernel)",
   "language": "python",
   "name": "python3"
  },
  "language_info": {
   "codemirror_mode": {
    "name": "ipython",
    "version": 3
   },
   "file_extension": ".py",
   "mimetype": "text/x-python",
   "name": "python",
   "nbconvert_exporter": "python",
   "pygments_lexer": "ipython3",
   "version": "3.9.13"
  }
 },
 "nbformat": 4,
 "nbformat_minor": 5
}
